{
 "cells": [
  {
   "cell_type": "code",
   "execution_count": 2,
   "metadata": {},
   "outputs": [],
   "source": [
    "import numpy as np\n",
    "from sklearn import datasets\n",
    "import matplotlib.pyplot as plt\n",
    "\n",
    "%matplotlib inline"
   ]
  },
  {
   "cell_type": "code",
   "execution_count": 114,
   "metadata": {},
   "outputs": [],
   "source": [
    "# сгенерируем набор данных\n",
    "data, target, coef = datasets.make_regression(n_samples=6000, n_features = 2, n_informative = 2, n_targets = 1, \n",
    "                                              noise = 5, coef = True, random_state = 2)"
   ]
  },
  {
   "cell_type": "code",
   "execution_count": 115,
   "metadata": {},
   "outputs": [],
   "source": [
    "# Получим средние значения и стандартное отклонение по столбцам\n",
    "\n",
    "means = np.mean(data, axis=0)\n",
    "stds = np.std(data, axis=0)\n",
    "# параметр axis указывается для вычисления значений по столбцам, а не по всему массиву\n",
    "#(см. документацию в разделе источников)\n",
    "\n",
    "# вычтем каждое значение признака из среднего и поделим на стандартное отклонение\n",
    "for i in range(data.shape[0]):\n",
    "    for j in range(data.shape[1]):\n",
    "        data[i][j] = (data[i][j] - means[j])/stds[j]"
   ]
  },
  {
   "cell_type": "code",
   "execution_count": 5,
   "metadata": {},
   "outputs": [],
   "source": [
    "# реализуем функцию, определяющую среднеквадратичную ошибку\n",
    "def mserror(X, w, y_pred):\n",
    "    y = X.dot(w)\n",
    "    return (sum((y - y_pred)**2)) / len(y)"
   ]
  },
  {
   "cell_type": "markdown",
   "metadata": {},
   "source": [
    "### Общий набор переменных"
   ]
  },
  {
   "cell_type": "code",
   "execution_count": 172,
   "metadata": {},
   "outputs": [],
   "source": [
    "# шаг стохастического градиентного спуска\n",
    "eta = 1\n",
    "# максимальное число итераций\n",
    "max_iter = 1e5\n",
    "# критерий сходимости (разница весов, при которой алгоритм останавливается)\n",
    "min_weight_dist = 1e-7\n",
    "# скорость обучения градиентного спуска\n",
    "lr = 0.0001"
   ]
  },
  {
   "cell_type": "markdown",
   "metadata": {},
   "source": [
    "### Стохастический градиентный спуск"
   ]
  },
  {
   "cell_type": "code",
   "execution_count": 159,
   "metadata": {},
   "outputs": [],
   "source": [
    "def my_SGD(data, eta, min_weight_dist, max_iter):\n",
    "    w = np.zeros(2)\n",
    "# список векторов весов после каждой итерации\n",
    "    w_list = [w.copy()]\n",
    "# зададим начальную разницу весов большим числом\n",
    "    weight_dist = np.inf\n",
    "# список значений ошибок после каждой итерации\n",
    "    errors = []\n",
    "# счетчик итераций\n",
    "    iter_num = 0\n",
    "    np.random.seed(1234)\n",
    "# ход градиентного спуска\n",
    "    while weight_dist > min_weight_dist and iter_num < max_iter:\n",
    "    \n",
    "    # генерируем случайный индекс объекта выборки\n",
    "        train_ind = np.random.randint(data.shape[0])\n",
    "    \n",
    "        new_w = w - 2 * eta * np.dot(data[train_ind].T, (np.dot(data[train_ind], w) - target[train_ind])) / target.shape[0]\n",
    "\n",
    "        weight_dist = np.linalg.norm(new_w - w, ord=2)\n",
    "    \n",
    "        w_list.append(new_w.copy())\n",
    "        errors.append(mserror(data, new_w, target))\n",
    "    \n",
    "        iter_num += 1\n",
    "        w = new_w\n",
    "    \n",
    "    w_list = np.array(w_list)\n",
    "\n",
    "    print(f'В случае использования стохастического градиентного спуска за {iter_num} операций, функционал ошибки составляет {round(errors[-1], 4)}, веса {w_list[-1]}')\n",
    "    return errors"
   ]
  },
  {
   "cell_type": "code",
   "execution_count": 173,
   "metadata": {},
   "outputs": [
    {
     "name": "stdout",
     "output_type": "stream",
     "text": [
      "В случае использования стохастического градиентного спуска за 11318 операций, функционал ошибки составляет 30.4922, веса [23.98324728 80.2680665 ]\n"
     ]
    }
   ],
   "source": [
    "errors = my_SGD(data, eta, min_weight_dist, max_iter)"
   ]
  },
  {
   "cell_type": "markdown",
   "metadata": {},
   "source": [
    "### Градиентный спуск"
   ]
  },
  {
   "cell_type": "code",
   "execution_count": 122,
   "metadata": {},
   "outputs": [],
   "source": [
    "def my_gd(data, min_weight_dist, lr):\n",
    "    n = data.shape[0]\n",
    "    err_list=[]\n",
    "    max_iter = 1e5\n",
    "    err_pre = np.inf\n",
    "    w = np.zeros(2)\n",
    "    for i in range(int(max_iter)):\n",
    "        y_pred = np.dot(data, w)\n",
    "        w -= (lr * (1 / n * 2 * np.dot((y_pred - target), data)))\n",
    "        err = mserror(data, w, target)\n",
    "        err_list.append(err)\n",
    "        if err_pre - err < min_weight_dist:\n",
    "            print(f'# итерация: {i}, MSE: {err}, веса: {w}')\n",
    "            return err_list\n",
    "        err_pre = err"
   ]
  },
  {
   "cell_type": "code",
   "execution_count": 128,
   "metadata": {},
   "outputs": [
    {
     "name": "stdout",
     "output_type": "stream",
     "text": [
      "# итерация: 59, MSE: 26.34737985509519, веса: [24.4163992 82.2529721]\n",
      "[24.48366924 81.76631737]\n"
     ]
    }
   ],
   "source": [
    "err_gd = my_gd(data, min_weight_dist, lr = 0.1)\n",
    "print(coef)"
   ]
  },
  {
   "cell_type": "markdown",
   "metadata": {},
   "source": [
    "### Сравнение градиентного и стохастического градиентного спуска"
   ]
  },
  {
   "cell_type": "code",
   "execution_count": 218,
   "metadata": {},
   "outputs": [
    {
     "data": {
      "image/png": "[encoded data removed]",
      "text/plain": [
       "<Figure size 1080x360 with 2 Axes>"
      ]
     },
     "metadata": {
      "needs_background": "light"
     },
     "output_type": "display_data"
    }
   ],
   "source": [
    "plt.figure(figsize=(15, 5))\n",
    "x_gd = np.linspace(0, len(err_gd), num=len(err_gd))\n",
    "x_sgd = np.linspace(0, len(errors), num=len(errors))\n",
    "plt.subplot(1, 2, 1)\n",
    "plt.plot(x_gd, err_gd, color='r', label = 'GD')\n",
    "plt.xlabel('iteration', fontsize=12, color='black')\n",
    "plt.ylabel('mse', fontsize=14, color='black')\n",
    "plt.title('Градиентный спуск', fontsize=15)\n",
    "plt.grid()\n",
    "plt.subplot(1, 2, 2)\n",
    "plt.plot(x_gd, err_gd, color='r', label='GD')\n",
    "plt.plot(x_sgd, errors, color='g', label='SGD')\n",
    "plt.xlabel('iteration', fontsize=12, color='black')\n",
    "plt.ylabel('mse', fontsize=14, color='black')\n",
    "plt.text(200, 1400, 'GD', color='red')\n",
    "plt.text(2600, 1400, 'SGD', color='green')\n",
    "plt.title('Градиентный и стохастический градиентный спуск', fontsize=15)\n",
    "plt.grid()\n",
    "plt.show()\n"
   ]
  },
  {
   "cell_type": "markdown",
   "metadata": {},
   "source": [
    "## Вывод"
   ]
  },
  {
   "cell_type": "code",
   "execution_count": null,
   "metadata": {},
   "outputs": [],
   "source": [
    "Для выбранного примера (n_samples=6000, n_features = 2) простой градиентный спуск дает результат за меньшее число итераций"
   ]
  },
  {
   "cell_type": "markdown",
   "metadata": {},
   "source": [
    "### Градиентный спуск c регуляризацией"
   ]
  },
  {
   "cell_type": "code",
   "execution_count": null,
   "metadata": {},
   "outputs": [],
   "source": [
    "def my_gd_reg2(data, min_weight_dist, lr, lambda_ = 1):\n",
    "    # Максимальное число итераций\n",
    "    n = data.shape[0]\n",
    "    err_list=[]\n",
    "    max_iter = 1e5\n",
    "    err_pre = np.inf\n",
    "    w = np.zeros(2)\n",
    "    for i in range(int(max_iter)):\n",
    "        y_pred = np.dot(data, w)\n",
    "        w -= (lr * (1 / n * 2 * np.dot((y_pred - target), data) + lambda_ * w))\n",
    "        err = mserror(data, w, target)\n",
    "        err_list.append(err)\n",
    "        if err_pre - err < min_weight_dist:\n",
    "            print(f'# итерация: {i}, MSE: {err}, веса: {w}')\n",
    "            return err_list\n",
    "        err_pre = err"
   ]
  },
  {
   "cell_type": "code",
   "execution_count": 220,
   "metadata": {},
   "outputs": [
    {
     "name": "stdout",
     "output_type": "stream",
     "text": [
      "# итерация: 84, MSE: 26.52864947545067, веса: [24.29892186 81.84501963]\n",
      "[24.48366924 81.76631737]\n"
     ]
    }
   ],
   "source": [
    "my_gd_reg2(data, min_weight_dist, lr = 0.1, lambda_ = 1e-2)\n",
    "print(coef)"
   ]
  },
  {
   "cell_type": "code",
   "execution_count": 221,
   "metadata": {},
   "outputs": [
    {
     "data": {
      "image/png": "[encoded data removed]",
      "text/plain": [
       "<Figure size 432x288 with 1 Axes>"
      ]
     },
     "metadata": {
      "needs_background": "light"
     },
     "output_type": "display_data"
    }
   ],
   "source": [
    "xx = np.linspace(0, len(err_gd), num=len(err_gd))\n",
    "plt.plot(xx, err_gd, color='r')\n",
    "plt.grid()\n",
    "plt.show()"
   ]
  },
  {
   "cell_type": "markdown",
   "metadata": {},
   "source": [
    "### Стохастический градиентный спуск c регуляризацией"
   ]
  },
  {
   "cell_type": "code",
   "execution_count": 342,
   "metadata": {},
   "outputs": [],
   "source": [
    "def my_SGD_reg2(data, eta, min_weight_dist, max_iter, lambda_ = 1e-5):\n",
    "    w = np.zeros(2)\n",
    "# список векторов весов после каждой итерации\n",
    "    w_list = [w.copy()]\n",
    "# зададим начальную разницу весов большим числом\n",
    "    weight_dist = np.inf\n",
    "# список значений ошибок после каждой итерации\n",
    "    errors = []\n",
    "\n",
    "# счетчик итераций\n",
    "    iter_num = 0\n",
    "\n",
    "    np.random.seed(1234)\n",
    "    new_w = w\n",
    "\n",
    "# ход градиентного спуска\n",
    "    while weight_dist > min_weight_dist and iter_num < max_iter:\n",
    "    \n",
    "    # генерируем случайный индекс объекта выборки\n",
    "        train_ind = np.random.randint(data.shape[0])\n",
    "    \n",
    "        new_w = w - 2 * eta * (np.dot(data[train_ind].T, (np.dot(data[train_ind], w) - target[train_ind])) + lambda_ * new_w) / target.shape[0]\n",
    "        \n",
    "        weight_dist = np.linalg.norm(new_w - w, ord=2)\n",
    "    \n",
    "        w_list.append(new_w.copy())\n",
    "        errors.append(mserror(data, new_w, target))\n",
    "    \n",
    "        iter_num += 1\n",
    "        w = new_w\n",
    "        if iter_num % 5000 == 0:\n",
    "            print(f'# итерация: {iter_num}, MSE: {errors[iter_num-1]}, веса: {new_w}')\n",
    "    \n",
    "    w_list = np.array(w_list)\n",
    "\n",
    "    print(f'В случае использования стохастического градиентного спуска за {iter_num} операций, функционал ошибки составляет {round(errors[-1], 4)}, веса {w_list[-1]}')"
   ]
  },
  {
   "cell_type": "code",
   "execution_count": 343,
   "metadata": {},
   "outputs": [
    {
     "name": "stdout",
     "output_type": "stream",
     "text": [
      "# итерация: 5000, MSE: 265.29219472626374, веса: [19.8424096  67.53222891]\n",
      "# итерация: 10000, MSE: 36.51251372916994, веса: [23.66462011 79.16207503]\n",
      "В случае использования стохастического градиентного спуска за 12783 операций, функционал ошибки составляет 27.8556, веса [24.09572547 81.07074391]\n",
      "[24.48366924 81.76631737]\n"
     ]
    }
   ],
   "source": [
    "eta = 1\n",
    "min_weight_dist = 1e-6\n",
    "my_SGD_reg2(data, eta, min_weight_dist, max_iter, lambda_ = 1e-4)\n",
    "print(coef)"
   ]
  }
 ],
 "metadata": {
  "kernelspec": {
   "display_name": "Python 3",
   "language": "python",
   "name": "python3"
  },
  "language_info": {
   "codemirror_mode": {
    "name": "ipython",
    "version": 3
   },
   "file_extension": ".py",
   "mimetype": "text/x-python",
   "name": "python",
   "nbconvert_exporter": "python",
   "pygments_lexer": "ipython3",
   "version": "3.7.3"
  }
 },
 "nbformat": 4,
 "nbformat_minor": 2
}
